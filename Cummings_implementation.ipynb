{
 "cells": [
  {
   "cell_type": "markdown",
   "metadata": {},
   "source": [
    "# Sparseを実装する\n",
    "\n",
    "本名 sparse vector algorithm. Dwork and Roth 2014を参照。\n",
    "\n",
    "PRESLにおいてはdifferential privateにLPを解くために利用される。\n",
    "\n",
    "気持ちとしては下のような感じ。\n",
    "\n",
    "離散化した値の組合せそれぞれに対して、LPの解を計算したい。が、その出力には差分プライバシーを守っていてほしい。\n",
    "ので、LPをそれぞれに対して解いた時に、その解を貯めておき、それをSparseにぶっこむことで出力にノイズを入れながら、その解の中で重要なものは一定の確率で得られているようにする。\n",
    "\n",
    "\n",
    "なのでSparse自体はめっちゃ簡単。単なる数列に対してノイズを加え、出力するためのthresholdにもノイズを加えながら一定以上の値あは出力できるようにするだけ。\n",
    "\n",
    "\n",
    "試しにデータを引き出すタスクをやってみる（このタスクが問題設定に対して適切じゃなさそうな…）\n",
    "実装するのは楽という確認ぐらいの気持ちで"
   ]
  },
  {
   "cell_type": "code",
   "execution_count": 68,
   "metadata": {},
   "outputs": [],
   "source": [
    "import numpy as np\n",
    "from numpy.random import laplace\n",
    "np.random.seed(123)"
   ]
  },
  {
   "cell_type": "code",
   "execution_count": 122,
   "metadata": {},
   "outputs": [],
   "source": [
    "\n",
    "datasize = 10000\n",
    "T = 0\n",
    "num_answers = 500\n",
    "epsilon = 100\n",
    "# data がこの時gamma = 2\n",
    "data = np.random.uniform(low = -1, high = 1, size = datasize)\n",
    "gamma = 2"
   ]
  },
  {
   "cell_type": "code",
   "execution_count": 123,
   "metadata": {},
   "outputs": [],
   "source": [
    "output = np.zeros(datasize)\n",
    "\n",
    "def sparse(data, T, num_answers, epsilon):\n",
    "    T_hat = T + laplace(scale = 2*gamma/epsilon)\n",
    "    sigma = 2*num_answers*gamma/epsilon\n",
    "    count = 0\n",
    "    count2 = 0\n",
    "    for i in range(datasize):\n",
    "        nu = laplace(scale = sigma)\n",
    "        Q_hat = data[i] + nu\n",
    "        count2 += 1\n",
    "        if Q_hat <= T_hat:\n",
    "            output[i] = Q_hat\n",
    "            count += 1\n",
    "            \n",
    "            if count >= num_answers:\n",
    "                break\n",
    "        \n",
    "        else:\n",
    "            output[i] = np.nan\n",
    "    \n",
    "    print(count)\n",
    "    print(count2)\n",
    "    return output[:count2],count2"
   ]
  },
  {
   "cell_type": "code",
   "execution_count": 124,
   "metadata": {},
   "outputs": [
    {
     "name": "stdout",
     "output_type": "stream",
     "text": [
      "500\n",
      "1001\n"
     ]
    }
   ],
   "source": [
    "result, num_query = sparse(data, T, num_answers, epsilon)"
   ]
  },
  {
   "cell_type": "code",
   "execution_count": 125,
   "metadata": {},
   "outputs": [],
   "source": [
    "dataslice = data[:len(result)]"
   ]
  },
  {
   "cell_type": "code",
   "execution_count": 126,
   "metadata": {},
   "outputs": [],
   "source": [
    "diff = dataslice - result "
   ]
  },
  {
   "cell_type": "code",
   "execution_count": 127,
   "metadata": {},
   "outputs": [],
   "source": [
    "beta = 0.99\n",
    "alpha = 4*num_answers*gamma *(np.log(num_query) + np.log(2*num_answers/beta))/epsilon"
   ]
  },
  {
   "cell_type": "code",
   "execution_count": 128,
   "metadata": {},
   "outputs": [
    {
     "data": {
      "text/plain": [
       "553.0624157660344"
      ]
     },
     "execution_count": 128,
     "metadata": {},
     "output_type": "execute_result"
    }
   ],
   "source": [
    "alpha"
   ]
  },
  {
   "cell_type": "code",
   "execution_count": 129,
   "metadata": {},
   "outputs": [
    {
     "data": {
      "text/plain": [
       "0"
      ]
     },
     "execution_count": 129,
     "metadata": {},
     "output_type": "execute_result"
    }
   ],
   "source": [
    "# タスクがあかんっぽいな\n",
    "sum([1 for i in diff if np.abs(i) > alpha ])"
   ]
  },
  {
   "cell_type": "code",
   "execution_count": null,
   "metadata": {},
   "outputs": [],
   "source": []
  }
 ],
 "metadata": {
  "kernelspec": {
   "display_name": "Python 3",
   "language": "python",
   "name": "python3"
  },
  "language_info": {
   "codemirror_mode": {
    "name": "ipython",
    "version": 3
   },
   "file_extension": ".py",
   "mimetype": "text/x-python",
   "name": "python",
   "nbconvert_exporter": "python",
   "pygments_lexer": "ipython3",
   "version": "3.7.0"
  }
 },
 "nbformat": 4,
 "nbformat_minor": 2
}
