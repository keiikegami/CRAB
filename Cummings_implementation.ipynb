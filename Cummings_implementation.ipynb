{
 "cells": [
  {
   "cell_type": "markdown",
   "metadata": {},
   "source": [
    "# Sparseを実装する\n",
    "\n",
    "本名 sparse vector algorithm. Dwork and Roth 2014を参照。\n",
    "\n",
    "PRESLにおいてはjoint differentially privateにLPを解くために利用される。\n",
    "\n",
    "気持ちとしては下のような感じ。\n",
    "\n",
    "離散化した値の組合せそれぞれに対して、LPの解を計算したい。が、その出力には差分プライバシーを守っていてほしい。\n",
    "ので、LPをそれぞれに対して解いた時に、その解を貯めておき、それをSparseにぶっこむことで出力にノイズを入れながら、その解の中で重要なものは一定の確率で得られているようにする。\n",
    "\n",
    "\n",
    "なのでSparse自体は、入力であるqueryの結果にノイズを加え、出力するか否かのthresholdにもノイズを加えながら一定以上の値ならそれを出力する、というもの。\n",
    "\n",
    "これは名前の通りthresholdを超える値が少ないと想定される時に有効なアルゴリズムで、この意味でsparseと名付けられている。"
   ]
  },
  {
   "cell_type": "markdown",
   "metadata": {},
   "source": [
    "## 具体例"
   ]
  },
  {
   "cell_type": "code",
   "execution_count": 56,
   "metadata": {},
   "outputs": [],
   "source": [
    "import numpy as np\n",
    "from numpy.random import laplace\n",
    "from numpy.random import uniform\n",
    "np.random.seed(123)"
   ]
  },
  {
   "cell_type": "code",
   "execution_count": 57,
   "metadata": {},
   "outputs": [],
   "source": [
    "datasize = 100\n",
    "days = 1000\n",
    "data = uniform(size=(100, 10000))"
   ]
  },
  {
   "cell_type": "markdown",
   "metadata": {},
   "source": [
    "このデータから列ごとの平均値を取り出したいとする。"
   ]
  },
  {
   "cell_type": "code",
   "execution_count": 58,
   "metadata": {},
   "outputs": [
    {
     "data": {
      "text/plain": [
       "array([0.48800237, 0.49976037, 0.4840857 , ..., 0.46029493, 0.49353913,\n",
       "       0.48631572])"
      ]
     },
     "execution_count": 58,
     "metadata": {},
     "output_type": "execute_result"
    }
   ],
   "source": [
    "truevalues = data.mean(axis = 0)\n",
    "truevalues"
   ]
  },
  {
   "cell_type": "code",
   "execution_count": 53,
   "metadata": {},
   "outputs": [
    {
     "data": {
      "text/plain": [
       "(10000,)"
      ]
     },
     "execution_count": 53,
     "metadata": {},
     "output_type": "execute_result"
    }
   ],
   "source": [
    "truevalues.shape"
   ]
  },
  {
   "cell_type": "markdown",
   "metadata": {},
   "source": [
    "これを引き出す時に何らかの事情でprivacyを保護したいとする。この時、「平均値を取り出す」というqueryに対してsparseを使う。"
   ]
  },
  {
   "cell_type": "code",
   "execution_count": 54,
   "metadata": {},
   "outputs": [],
   "source": [
    "def sparse(data, T, num_answers, gamma, epsilon):\n",
    "    \n",
    "    datasize = data.shape[0]\n",
    "    output = np.zeros(datasize)\n",
    "    \n",
    "    count = 0\n",
    "    count2 = 0\n",
    "    \n",
    "    T_hat = T + laplace(scale = 2*gamma/epsilon)\n",
    "    sigma = 2*num_answers*gamma/epsilon\n",
    "    \n",
    "    for i in range(datasize):\n",
    "        \n",
    "        nu = laplace(scale = sigma)\n",
    "        Q_hat = data[i] + nu\n",
    "        count2 += 1\n",
    "        \n",
    "        if Q_hat >= T_hat:\n",
    "            \n",
    "            output[i] = Q_hat\n",
    "            count += 1\n",
    "            \n",
    "            if count >= num_answers:\n",
    "                \n",
    "                break\n",
    "        \n",
    "        else:\n",
    "            \n",
    "            output[i] = np.nan\n",
    "    \n",
    "    print(count)\n",
    "    print(count2)\n",
    "    \n",
    "    return output[:count2],count2"
   ]
  },
  {
   "cell_type": "markdown",
   "metadata": {},
   "source": [
    "この設定でsensitivity $\\gamma$はどこか一箇所の$0$が$１$になる時の$\\frac{1}{100}$\n",
    "\n",
    "平均値が以上に高い時にそれを検知したい、というようなモチベーションだとしてthresholdを$T = 0.6$\n",
    "\n",
    "$3$回検知したいとして、num_answers = 3\n",
    "\n",
    "privacy parameter $\\epsilon = 0.5$として、"
   ]
  },
  {
   "cell_type": "code",
   "execution_count": 59,
   "metadata": {},
   "outputs": [],
   "source": [
    "gamma = 1/100\n",
    "T = 0.6\n",
    "num_answers = 3\n",
    "epsilon = 0.5"
   ]
  },
  {
   "cell_type": "code",
   "execution_count": 37,
   "metadata": {},
   "outputs": [
    {
     "name": "stdout",
     "output_type": "stream",
     "text": [
      "10\n",
      "31\n"
     ]
    }
   ],
   "source": [
    "result, num_query = sparse(data, T, num_answers, epsilon)"
   ]
  },
  {
   "cell_type": "code",
   "execution_count": 38,
   "metadata": {},
   "outputs": [
    {
     "data": {
      "text/plain": [
       "array([2.97266959, 2.37046394,        nan,        nan,        nan,\n",
       "       1.30079236, 5.82016052, 5.94992694,        nan,        nan,\n",
       "              nan,        nan,        nan, 3.45348201,        nan,\n",
       "              nan,        nan,        nan,        nan,        nan,\n",
       "              nan,        nan,        nan, 1.88072118, 2.33305414,\n",
       "              nan,        nan,        nan,        nan, 2.06746918,\n",
       "       2.22699771])"
      ]
     },
     "execution_count": 38,
     "metadata": {},
     "output_type": "execute_result"
    }
   ],
   "source": [
    "result"
   ]
  },
  {
   "cell_type": "code",
   "execution_count": 42,
   "metadata": {},
   "outputs": [
    {
     "data": {
      "text/plain": [
       "25.718917912356552"
      ]
     },
     "execution_count": 42,
     "metadata": {},
     "output_type": "execute_result"
    }
   ],
   "source": [
    "beta = 0.99999\n",
    "alpha = 4*num_answers*gamma*(np.log(num_query) + np.log(2*num_answers/beta))/epsilon\n",
    "alpha"
   ]
  },
  {
   "cell_type": "code",
   "execution_count": 43,
   "metadata": {},
   "outputs": [
    {
     "data": {
      "text/plain": [
       "array([0.69646919, 0.28613933, 0.22685145, 0.55131477, 0.71946897,\n",
       "       0.42310646, 0.9807642 , 0.68482974, 0.4809319 , 0.39211752,\n",
       "       0.34317802, 0.72904971, 0.43857224, 0.0596779 , 0.39804426,\n",
       "       0.73799541, 0.18249173, 0.17545176, 0.53155137, 0.53182759,\n",
       "       0.63440096, 0.84943179, 0.72445532, 0.61102351, 0.72244338,\n",
       "       0.32295891, 0.36178866, 0.22826323, 0.29371405, 0.63097612,\n",
       "       0.09210494])"
      ]
     },
     "execution_count": 43,
     "metadata": {},
     "output_type": "execute_result"
    }
   ],
   "source": [
    "data[:num_query]"
   ]
  },
  {
   "cell_type": "code",
   "execution_count": null,
   "metadata": {},
   "outputs": [],
   "source": []
  }
 ],
 "metadata": {
  "kernelspec": {
   "display_name": "Python 3",
   "language": "python",
   "name": "python3"
  },
  "language_info": {
   "codemirror_mode": {
    "name": "ipython",
    "version": 3
   },
   "file_extension": ".py",
   "mimetype": "text/x-python",
   "name": "python",
   "nbconvert_exporter": "python",
   "pygments_lexer": "ipython3",
   "version": "3.7.0"
  }
 },
 "nbformat": 4,
 "nbformat_minor": 2
}
