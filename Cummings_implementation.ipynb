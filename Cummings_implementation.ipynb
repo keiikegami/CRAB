{
 "cells": [
  {
   "cell_type": "markdown",
   "metadata": {},
   "source": [
    "# Sparseを実装する\n",
    "\n",
    "本名 sparse vector algorithm. Dwork and Roth 2014を参照。\n",
    "\n",
    "PRESLにおいてはdifferential privateにLPを解くために利用される。\n",
    "\n",
    "気持ちとしては下のような感じ。\n",
    "\n",
    "離散化した値の組合せそれぞれに対して、LPの解を計算したい。が、その出力には差分プライバシーを守っていてほしい。\n",
    "ので、LPをそれぞれに対して解いた時に、その解を貯めておき、それをSparseにぶっこむことで出力にノイズを入れながら、その解の中で重要なものは一定の確率で得られているようにする。\n",
    "\n",
    "\n",
    "なのでSparse自体はめっちゃ簡単。単なる数列に対してノイズを加え、出力するためのthresholdにもノイズを加えながら一定以上の値あは出力できるようにするだけ。"
   ]
  },
  {
   "cell_type": "code",
   "execution_count": null,
   "metadata": {},
   "outputs": [],
   "source": []
  }
 ],
 "metadata": {
  "kernelspec": {
   "display_name": "Python 3",
   "language": "python",
   "name": "python3"
  },
  "language_info": {
   "codemirror_mode": {
    "name": "ipython",
    "version": 3
   },
   "file_extension": ".py",
   "mimetype": "text/x-python",
   "name": "python",
   "nbconvert_exporter": "python",
   "pygments_lexer": "ipython3",
   "version": "3.7.0"
  }
 },
 "nbformat": 4,
 "nbformat_minor": 2
}
